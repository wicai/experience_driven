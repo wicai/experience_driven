{
 "cells": [
  {
   "cell_type": "markdown",
   "metadata": {},
   "source": [
    "This notebook gets the riot account IDs associated with the usernames which were previously scraped."
   ]
  },
  {
   "cell_type": "code",
   "execution_count": null,
   "metadata": {},
   "outputs": [],
   "source": [
    "import requests\n",
    "import pandas as pd\n",
    "import os\n",
    "import glob\n",
    "import time\n",
    "import random\n",
    "import shutil"
   ]
  },
  {
   "cell_type": "code",
   "execution_count": 3,
   "metadata": {},
   "outputs": [],
   "source": [
    "#via https://developer.riotgames.com/\n",
    "api_key = \"YOUR API KEY HERE\""
   ]
  },
  {
   "cell_type": "code",
   "execution_count": 8,
   "metadata": {},
   "outputs": [],
   "source": [
    "#The team that runs the match service uses account IDs, and the team that runs the leagues service uses summoner IDs. \n",
    "#summonerid -> puuid\n",
    "def summoner_by_username(username):\n",
    "    params = {'api_key':api_key}\n",
    "    r = requests.get('https://na1.api.riotgames.com/lol/summoner/v4/summoners/by-name/{}?'.format(username), params = params)\n",
    "    return (r,r.json())"
   ]
  },
  {
   "cell_type": "code",
   "execution_count": 9,
   "metadata": {},
   "outputs": [],
   "source": [
    "if not os.path.isdir('data/pages_with_id'):\n",
    "    os.mkdir('data/pages_with_id')"
   ]
  },
  {
   "cell_type": "code",
   "execution_count": 10,
   "metadata": {},
   "outputs": [],
   "source": [
    "all_pt1 = glob.glob('data/pages/*.csv')\n",
    "all_pt2 = glob.glob('data/pages_with_id/*.csv')"
   ]
  },
  {
   "cell_type": "code",
   "execution_count": 7,
   "metadata": {},
   "outputs": [],
   "source": [
    "#\"200 requests / 1 minute\""
   ]
  },
  {
   "cell_type": "code",
   "execution_count": null,
   "metadata": {},
   "outputs": [],
   "source": [
    "for p in all_pt1:\n",
    "    filename = p\n",
    "    if ('data/pages_with_id/{}'.format(os.path.basename(filename))) in all_pt2:\n",
    "        continue\n",
    "    page = pd.read_csv(filename)\n",
    "    usernames = list(page['username'])\n",
    "    puu_ids = []\n",
    "    ids = []\n",
    "    account_ids = []\n",
    "    for u in usernames:\n",
    "        time.sleep(2)\n",
    "        (r, json_data) = summoner_by_username(u)\n",
    "        if r.status_code > 400:\n",
    "            print(u)\n",
    "            print(r.status_code)\n",
    "            time.sleep(30)\n",
    "            (r, json_data) = summoner_by_username(u)\n",
    "            if r.status_code > 400:\n",
    "                print('failed')\n",
    "                ids.append(None)\n",
    "                account_ids.append(None)\n",
    "                puu_ids.append(None)\n",
    "            else:\n",
    "                puu_id = json_data['puuid']\n",
    "                u_id = json_data['id']\n",
    "                u_accountId = json_data['accountId']\n",
    "                ids.append(u_id)\n",
    "                account_ids.append(u_accountId)\n",
    "                puu_ids.append(puu_id) \n",
    "        else:\n",
    "            try:\n",
    "                puu_id = json_data['puuid']\n",
    "                u_id = json_data['id']\n",
    "                u_accountId = json_data['accountId']\n",
    "                ids.append(u_id)\n",
    "                account_ids.append(u_accountId)\n",
    "                puu_ids.append(puu_id)\n",
    "            except:\n",
    "                ids.append(None)\n",
    "                account_ids.append(None)\n",
    "                puu_ids.append(None)\n",
    "                time.sleep(2)\n",
    "                continue\n",
    "    print(\"length of ids is {}\".format(len(ids)))\n",
    "    print(\"length of account_ids is {}\".format(len(account_ids)))\n",
    "    print(\"length of puu_ids is {}\".format(len(puu_ids)))\n",
    "    print(ids)\n",
    "    print(account_ids)\n",
    "    print(puu_ids)\n",
    "    page['id'] = ids\n",
    "    page['account_id'] = account_ids\n",
    "    page['puu_id'] = puu_ids\n",
    "    page.to_csv('data/pages_with_id/'+os.path.basename(filename))"
   ]
  }
 ],
 "metadata": {
  "kernelspec": {
   "display_name": "Python 3",
   "language": "python",
   "name": "python3"
  },
  "language_info": {
   "codemirror_mode": {
    "name": "ipython",
    "version": 3
   },
   "file_extension": ".py",
   "mimetype": "text/x-python",
   "name": "python",
   "nbconvert_exporter": "python",
   "pygments_lexer": "ipython3",
   "version": "3.8.5"
  }
 },
 "nbformat": 4,
 "nbformat_minor": 4
}
