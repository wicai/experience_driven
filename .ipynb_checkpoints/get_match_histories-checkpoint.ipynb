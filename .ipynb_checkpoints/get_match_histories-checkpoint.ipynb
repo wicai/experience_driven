{
 "cells": [
  {
   "cell_type": "markdown",
   "metadata": {},
   "source": [
    "This notebook gets, for each user, the match history of that user."
   ]
  },
  {
   "cell_type": "code",
   "execution_count": null,
   "metadata": {},
   "outputs": [],
   "source": [
    "import requests\n",
    "import pandas as pd\n",
    "import os\n",
    "import glob\n",
    "import time\n",
    "import math\n",
    "import random"
   ]
  },
  {
   "cell_type": "code",
   "execution_count": null,
   "metadata": {},
   "outputs": [],
   "source": [
    "api_key = \"YOUR API KEY HERE\""
   ]
  },
  {
   "cell_type": "code",
   "execution_count": null,
   "metadata": {},
   "outputs": [],
   "source": [
    "failed_account_ids = []"
   ]
  },
  {
   "cell_type": "code",
   "execution_count": null,
   "metadata": {},
   "outputs": [],
   "source": [
    "if not os.path.exists('data/failed_match_history_dir'):\n",
    "    os.mkdir('data/failed_match_history_dir')"
   ]
  },
  {
   "cell_type": "code",
   "execution_count": null,
   "metadata": {},
   "outputs": [],
   "source": [
    "#The team that runs the match service uses account IDs, and the team that runs the leagues service uses summoner IDs. \n",
    "#summonerid -> accountId/id\n",
    "def get_match_history(accountId):\n",
    "    jsons = []\n",
    "    begin_index = 0\n",
    "    while True:\n",
    "        time.sleep(3)\n",
    "        params = {'api_key':api_key, 'beginIndex':begin_index}\n",
    "        print('https://na1.api.riotgames.com/lol/match/v4/matchlists/by-account/{}?'.format(accountId))\n",
    "        print(params)\n",
    "        r = requests.get('https://na1.api.riotgames.com/lol/match/v4/matchlists/by-account/{}?'.format(accountId), params = params)\n",
    "        print(r.url)\n",
    "        if r.status_code == 403:\n",
    "            print('sleeping for an hour')\n",
    "            time.sleep(3600)\n",
    "        if r.status_code > 400:\n",
    "            print(r.status_code)\n",
    "            time.sleep(120)\n",
    "            r = requests.get('https://na1.api.riotgames.com/lol/match/v4/matchlists/by-account/{}?'.format(accountId), params = params)\n",
    "            if r.status_code > 400:\n",
    "                print('failed')\n",
    "                failed_account_ids.append(accountId)\n",
    "                return False\n",
    "        #we've gotten all the matches already\n",
    "        if len(r.json()['matches']) == 0:\n",
    "            break\n",
    "        jsons += r.json()['matches']\n",
    "        begin_index += 100\n",
    "    return(jsons)"
   ]
  },
  {
   "cell_type": "code",
   "execution_count": null,
   "metadata": {},
   "outputs": [],
   "source": [
    "pages = glob.glob('data/pages_with_id/*.csv')"
   ]
  },
  {
   "cell_type": "code",
   "execution_count": null,
   "metadata": {},
   "outputs": [],
   "source": [
    "if not os.path.isdir('data/match_history_plat'):\n",
    "    os.mkdir('data/match_history_plat')\n",
    "if not os.path.isdir('data/match_history'):\n",
    "    os.mkdir('data/match_history')"
   ]
  },
  {
   "cell_type": "code",
   "execution_count": null,
   "metadata": {},
   "outputs": [],
   "source": [
    "random_number = random.randint(0, 100000)\n",
    "for p in pages:\n",
    "    page_num = int(os.path.basename(p).split('.')[0].split('_')[1])\n",
    "    dir_str = 'data/match_history'\n",
    "    if page_num >= 100:\n",
    "        dir_str += '_plat'\n",
    "    already_scraped = glob.glob(dir_str+'/*.csv')\n",
    "    page = pd.read_csv(p)\n",
    "    account_ids = list(page['account_id'])\n",
    "    for ai in account_ids:\n",
    "        ai = str(ai)\n",
    "        if ai == 'nan':\n",
    "            continue\n",
    "        #check if we already did ai\n",
    "        if os.path.join(dir_str, str(ai)+'.csv') in already_scraped:\n",
    "            continue\n",
    "        #if not, get the match history\n",
    "        foo = get_match_history(ai)\n",
    "        if foo:\n",
    "            df = pd.DataFrame.from_dict(foo)\n",
    "            df.to_csv(dir_str+'/{}.csv'.format(str(ai)))\n",
    "        failed = pd.DataFrame({'failed_accountId':failed_account_ids})\n",
    "        failed.to_csv('data/failed_match_history_dir/failed_match_history_scrapes_'+str(random_number)+'.csv')"
   ]
  }
 ],
 "metadata": {
  "kernelspec": {
   "display_name": "Python 3",
   "language": "python",
   "name": "python3"
  },
  "language_info": {
   "codemirror_mode": {
    "name": "ipython",
    "version": 3
   },
   "file_extension": ".py",
   "mimetype": "text/x-python",
   "name": "python",
   "nbconvert_exporter": "python",
   "pygments_lexer": "ipython3",
   "version": "3.8.5"
  }
 },
 "nbformat": 4,
 "nbformat_minor": 4
}
