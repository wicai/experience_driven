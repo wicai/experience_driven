{
 "cells": [
  {
   "cell_type": "markdown",
   "metadata": {},
   "source": [
    "This notebook goes through the match histories which were previously scraped and gets the records associated with each individual game of the match history. "
   ]
  },
  {
   "cell_type": "code",
   "execution_count": 54,
   "metadata": {},
   "outputs": [],
   "source": [
    "import requests\n",
    "import pandas as pd\n",
    "import os\n",
    "import glob\n",
    "import time\n",
    "import json\n",
    "import random"
   ]
  },
  {
   "cell_type": "code",
   "execution_count": 1,
   "metadata": {},
   "outputs": [],
   "source": [
    "api_key = 'YOUR API KEY HERE'"
   ]
  },
  {
   "cell_type": "code",
   "execution_count": 56,
   "metadata": {},
   "outputs": [],
   "source": [
    "failed_games_list = glob.glob('data/failed_raw_games_dir/*')\n",
    "failed_game_ids = []\n",
    "for fgl in failed_games_list:\n",
    "    failed_game_ids += list(pd.read_csv(fgl)['failed_accountId'])"
   ]
  },
  {
   "cell_type": "code",
   "execution_count": 58,
   "metadata": {},
   "outputs": [],
   "source": [
    "scrape_which = 'plat'\n",
    "#scrape_which = 'not_plat'"
   ]
  },
  {
   "cell_type": "code",
   "execution_count": 59,
   "metadata": {},
   "outputs": [],
   "source": [
    "if scrape_which == 'plat':\n",
    "    match_histories = glob.glob('data/match_history_plat/*')\n",
    "else:\n",
    "    match_histories = glob.glob('data/match_history/*')"
   ]
  },
  {
   "cell_type": "code",
   "execution_count": 45,
   "metadata": {},
   "outputs": [],
   "source": [
    "params = {'api_key':api_key}"
   ]
  },
  {
   "cell_type": "code",
   "execution_count": 49,
   "metadata": {},
   "outputs": [],
   "source": [
    "random_number = random.randint(1,100000)"
   ]
  },
  {
   "cell_type": "code",
   "execution_count": 50,
   "metadata": {},
   "outputs": [],
   "source": [
    "if not os.path.exists('data/raw_game_jsons'):\n",
    "    os.mkdir('data/raw_game_jsons')\n",
    "if not os.path.exists('data/raw_game_jsons_plat'):\n",
    "    os.mkdir('data/raw_game_jsons_plat')\n",
    "if not os.path.exists('data/failed_raw_games_dir'):\n",
    "    os.mkdir('data/failed_raw_games_dir')"
   ]
  },
  {
   "cell_type": "code",
   "execution_count": 51,
   "metadata": {},
   "outputs": [],
   "source": [
    "if scrape_which == 'plat':\n",
    "    already_scraped = glob.glob('raw_game_jsons_plat/*')\n",
    "else:\n",
    "    already_scraped = glob.glob('raw_game_jsons/*')"
   ]
  },
  {
   "cell_type": "code",
   "execution_count": null,
   "metadata": {},
   "outputs": [],
   "source": [
    "for mh in match_histories: #mh contains the full match history of a single person\n",
    "    account_id = os.path.splitext(os.path.basename(mh))[0] #for this person\n",
    "    histories = pd.read_csv(mh) #this is the history of their games\n",
    "    for game, timestamp in zip(list(histories['gameId']), list(histories['timestamp'])): #for each game\n",
    "        if int(game) in failed_game_ids: #we tried to scrape this before and failed\n",
    "            print('failed this one before')\n",
    "            continue  \n",
    "        if timestamp < 1535785200000: #sep 1, 2018 (unix milliseconds)\n",
    "            continue\n",
    "        if timestamp > 1546243200000: #december 31, 2018 (unix milliseconds)\n",
    "            continue\n",
    "        if scrape_which == 'plat':\n",
    "            hypothetical = 'data/raw_game_jsons_plat/{}.json'.format(game)\n",
    "        else:\n",
    "            hypothetical = 'data/raw_game_jsons/{}.json'.format(game)\n",
    "        if hypothetical in already_scraped:\n",
    "            print('we already got this one')\n",
    "            continue\n",
    "        #check if game already in raw_game_jsons\n",
    "        time.sleep(5)\n",
    "        r = requests.get('https://na1.api.riotgames.com/lol/match/v4/matches/{}?'.format(game), params = params)\n",
    "        if r.status_code == 403:\n",
    "            print('sleeping for an hour')\n",
    "            time.sleep(3600) # api key expired\n",
    "        if r.status_code < 400:            \n",
    "            if scrape_which == 'plat':\n",
    "                with open(os.path.join(os.getcwd(), 'data/raw_game_jsons_plat/', str(game)+'.json'), 'w') as f:\n",
    "                    json.dump(r.json(), f)\n",
    "            else:\n",
    "                with open(os.path.join(os.getcwd(), 'data/raw_game_jsons/', str(game)+'.json'), 'w') as f:\n",
    "                    json.dump(r.json(), f)\n",
    "        else:\n",
    "            print(r.status_code)\n",
    "            time.sleep(120)\n",
    "            r = requests.get('https://na1.api.riotgames.com/lol/match/v4/matches/{}?'.format(game), params = params)\n",
    "            if r.status_code < 400:\n",
    "                if scrape_which == 'plat':\n",
    "                    with open(os.path.join(os.getcwd(), 'data/raw_game_jsons_plat/', str(game)+'.json'), 'w') as f:\n",
    "                        json.dump(r.json(), f)\n",
    "                else:\n",
    "                    with open(os.path.join(os.getcwd(), 'data/raw_game_jsons/', str(game)+'.json'), 'w') as f:\n",
    "                        json.dump(r.json(), f)\n",
    "            else:\n",
    "                print(r.status_code)\n",
    "                failed_game_ids.append(game)\n",
    "                failed = pd.DataFrame({'failed_accountId':failed_game_ids})\n",
    "                failed.to_csv('data/failed_raw_games_dir/failed_raw_game_jsons_{}.csv'.format(random_number))"
   ]
  }
 ],
 "metadata": {
  "kernelspec": {
   "display_name": "Python 3",
   "language": "python",
   "name": "python3"
  },
  "language_info": {
   "codemirror_mode": {
    "name": "ipython",
    "version": 3
   },
   "file_extension": ".py",
   "mimetype": "text/x-python",
   "name": "python",
   "nbconvert_exporter": "python",
   "pygments_lexer": "ipython3",
   "version": "3.8.5"
  }
 },
 "nbformat": 4,
 "nbformat_minor": 4
}
